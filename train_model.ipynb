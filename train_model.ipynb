{
 "cells": [
  {
   "cell_type": "markdown",
   "metadata": {},
   "source": [
    "# Pet Names (Python)\n",
    "\n",
    "This trains a neural network with Keras that generates pet names. It saves the neural to a file at the end, to use in a function in a separate notebook.\n",
    "\n",
    "First, load up the appropriate TensorFlow and other libraries."
   ]
  },
  {
   "cell_type": "code",
   "execution_count": 1,
   "metadata": {},
   "outputs": [],
   "source": [
    "import numpy as np\n",
    "import io\n",
    "import itertools\n",
    "import pandas as pd\n",
    "import random\n",
    "import string\n",
    "\n",
    "from tensorflow import keras\n",
    "from tensorflow.keras import layers"
   ]
  },
  {
   "cell_type": "markdown",
   "metadata": {},
   "source": [
    "Next, create some lookups and variables. The character list is the set of characters to use in the names. The lookup is that converted into a dictionary of integers for encoding."
   ]
  },
  {
   "cell_type": "code",
   "execution_count": 2,
   "metadata": {},
   "outputs": [],
   "source": [
    "character_list = list(string.ascii_lowercase) + [\".\",\"-\",\" \",\"+\"]\n",
    "character_lookup = dict(zip(character_list, range(len(character_list))))\n",
    "max_length = 10\n",
    "num_characters = len(character_lookup)"
   ]
  },
  {
   "cell_type": "markdown",
   "metadata": {},
   "source": [
    "This loads the data, converts it to lower case, and removes any pet that doesn't have a name or species (or the name has invalid characters)."
   ]
  },
  {
   "cell_type": "code",
   "execution_count": 5,
   "metadata": {},
   "outputs": [
    {
     "name": "stdout",
     "output_type": "stream",
     "text": [
      "      Animal's Name Species         Primary Breed           Secondary Breed\n",
      "0       Tinkerdelle     Cat    Domestic Shorthair                       NaN\n",
      "1            Pepper     Cat                  Manx                       Mix\n",
      "2          Grey Fox     Cat               Siamese                       Mix\n",
      "3            Hannah     Cat     Domestic Longhair                       NaN\n",
      "4             Daisy     Cat    Domestic Shorthair                       NaN\n",
      "...             ...     ...                   ...                       ...\n",
      "55956    Carly Rose     Dog   Retriever, Labrador                       NaN\n",
      "55957       Cricket     Dog     Poodle, Miniature  Spaniel, American Cocker\n",
      "55958     Caledonia     Dog  Bernese Mountain Dog                       NaN\n",
      "55959        Ziggie     Dog    Miniature Pinscher                       NaN\n",
      "55960          Nala     Dog               Kai Ken                       NaN\n",
      "\n",
      "[55961 rows x 4 columns]\n"
     ]
    },
    {
     "ename": "KeyError",
     "evalue": "['name', 'species']",
     "output_type": "error",
     "traceback": [
      "\u001b[1;31m---------------------------------------------------------------------------\u001b[0m",
      "\u001b[1;31mKeyError\u001b[0m                                  Traceback (most recent call last)",
      "\u001b[1;32md:\\repositories\\pet-names-python\\train_model.ipynb Cell 6\u001b[0m in \u001b[0;36m<cell line: 26>\u001b[1;34m()\u001b[0m\n\u001b[0;32m     <a href='vscode-notebook-cell:/d%3A/repositories/pet-names-python/train_model.ipynb#W5sZmlsZQ%3D%3D?line=21'>22</a>\u001b[0m     pet_data \u001b[39m=\u001b[39m pet_data[pet_data[\u001b[39m\"\u001b[39m\u001b[39mname\u001b[39m\u001b[39m\"\u001b[39m]\u001b[39m.\u001b[39mstr\u001b[39m.\u001b[39mmatch(\u001b[39m\"\u001b[39m\u001b[39m^[ \u001b[39m\u001b[39m\\\\\u001b[39;00m\u001b[39m.a-z-]+$\u001b[39m\u001b[39m\"\u001b[39m)]\n\u001b[0;32m     <a href='vscode-notebook-cell:/d%3A/repositories/pet-names-python/train_model.ipynb#W5sZmlsZQ%3D%3D?line=23'>24</a>\u001b[0m     \u001b[39mreturn\u001b[39;00m pet_data\n\u001b[1;32m---> <a href='vscode-notebook-cell:/d%3A/repositories/pet-names-python/train_model.ipynb#W5sZmlsZQ%3D%3D?line=25'>26</a>\u001b[0m pet_data \u001b[39m=\u001b[39m load_pet_data()\n",
      "\u001b[1;32md:\\repositories\\pet-names-python\\train_model.ipynb Cell 6\u001b[0m in \u001b[0;36mload_pet_data\u001b[1;34m()\u001b[0m\n\u001b[0;32m     <a href='vscode-notebook-cell:/d%3A/repositories/pet-names-python/train_model.ipynb#W5sZmlsZQ%3D%3D?line=11'>12</a>\u001b[0m pet_data\u001b[39m.\u001b[39mrename({\u001b[39m\"\u001b[39m\u001b[39mName\u001b[39m\u001b[39m\"\u001b[39m:\u001b[39m\"\u001b[39m\u001b[39mname\u001b[39m\u001b[39m\"\u001b[39m,\n\u001b[0;32m     <a href='vscode-notebook-cell:/d%3A/repositories/pet-names-python/train_model.ipynb#W5sZmlsZQ%3D%3D?line=12'>13</a>\u001b[0m                  \u001b[39m\"\u001b[39m\u001b[39mSpecies\u001b[39m\u001b[39m\"\u001b[39m: \u001b[39m\"\u001b[39m\u001b[39mspecies\u001b[39m\u001b[39m\"\u001b[39m,\n\u001b[0;32m     <a href='vscode-notebook-cell:/d%3A/repositories/pet-names-python/train_model.ipynb#W5sZmlsZQ%3D%3D?line=13'>14</a>\u001b[0m                  \u001b[39m\"\u001b[39m\u001b[39mPrimary Breed\u001b[39m\u001b[39m\"\u001b[39m: \u001b[39m\"\u001b[39m\u001b[39mprimary_breed\u001b[39m\u001b[39m\"\u001b[39m,\n\u001b[0;32m     <a href='vscode-notebook-cell:/d%3A/repositories/pet-names-python/train_model.ipynb#W5sZmlsZQ%3D%3D?line=14'>15</a>\u001b[0m                  \u001b[39m\"\u001b[39m\u001b[39mSecondary Breed\u001b[39m\u001b[39m\"\u001b[39m: \u001b[39m\"\u001b[39m\u001b[39msecondary_breed\u001b[39m\u001b[39m\"\u001b[39m})\n\u001b[0;32m     <a href='vscode-notebook-cell:/d%3A/repositories/pet-names-python/train_model.ipynb#W5sZmlsZQ%3D%3D?line=15'>16</a>\u001b[0m \u001b[39mprint\u001b[39m(pet_data)\n\u001b[1;32m---> <a href='vscode-notebook-cell:/d%3A/repositories/pet-names-python/train_model.ipynb#W5sZmlsZQ%3D%3D?line=16'>17</a>\u001b[0m pet_data\u001b[39m.\u001b[39;49mdropna(subset\u001b[39m=\u001b[39;49m[\u001b[39m'\u001b[39;49m\u001b[39mname\u001b[39;49m\u001b[39m'\u001b[39;49m, \u001b[39m'\u001b[39;49m\u001b[39mspecies\u001b[39;49m\u001b[39m'\u001b[39;49m])\n\u001b[0;32m     <a href='vscode-notebook-cell:/d%3A/repositories/pet-names-python/train_model.ipynb#W5sZmlsZQ%3D%3D?line=18'>19</a>\u001b[0m \u001b[39mfor\u001b[39;00m column \u001b[39min\u001b[39;00m pet_data\u001b[39m.\u001b[39mcolumns:\n\u001b[0;32m     <a href='vscode-notebook-cell:/d%3A/repositories/pet-names-python/train_model.ipynb#W5sZmlsZQ%3D%3D?line=19'>20</a>\u001b[0m     pet_data[column] \u001b[39m=\u001b[39m pet_data[column]\u001b[39m.\u001b[39mstr\u001b[39m.\u001b[39mlower()\n",
      "File \u001b[1;32mc:\\Users\\jacqu\\miniconda3\\lib\\site-packages\\pandas\\util\\_decorators.py:311\u001b[0m, in \u001b[0;36mdeprecate_nonkeyword_arguments.<locals>.decorate.<locals>.wrapper\u001b[1;34m(*args, **kwargs)\u001b[0m\n\u001b[0;32m    305\u001b[0m \u001b[39mif\u001b[39;00m \u001b[39mlen\u001b[39m(args) \u001b[39m>\u001b[39m num_allow_args:\n\u001b[0;32m    306\u001b[0m     warnings\u001b[39m.\u001b[39mwarn(\n\u001b[0;32m    307\u001b[0m         msg\u001b[39m.\u001b[39mformat(arguments\u001b[39m=\u001b[39marguments),\n\u001b[0;32m    308\u001b[0m         \u001b[39mFutureWarning\u001b[39;00m,\n\u001b[0;32m    309\u001b[0m         stacklevel\u001b[39m=\u001b[39mstacklevel,\n\u001b[0;32m    310\u001b[0m     )\n\u001b[1;32m--> 311\u001b[0m \u001b[39mreturn\u001b[39;00m func(\u001b[39m*\u001b[39margs, \u001b[39m*\u001b[39m\u001b[39m*\u001b[39mkwargs)\n",
      "File \u001b[1;32mc:\\Users\\jacqu\\miniconda3\\lib\\site-packages\\pandas\\core\\frame.py:6008\u001b[0m, in \u001b[0;36mDataFrame.dropna\u001b[1;34m(self, axis, how, thresh, subset, inplace)\u001b[0m\n\u001b[0;32m   6006\u001b[0m     check \u001b[39m=\u001b[39m indices \u001b[39m==\u001b[39m \u001b[39m-\u001b[39m\u001b[39m1\u001b[39m\n\u001b[0;32m   6007\u001b[0m     \u001b[39mif\u001b[39;00m check\u001b[39m.\u001b[39many():\n\u001b[1;32m-> 6008\u001b[0m         \u001b[39mraise\u001b[39;00m \u001b[39mKeyError\u001b[39;00m(np\u001b[39m.\u001b[39marray(subset)[check]\u001b[39m.\u001b[39mtolist())\n\u001b[0;32m   6009\u001b[0m     agg_obj \u001b[39m=\u001b[39m \u001b[39mself\u001b[39m\u001b[39m.\u001b[39mtake(indices, axis\u001b[39m=\u001b[39magg_axis)\n\u001b[0;32m   6011\u001b[0m \u001b[39mif\u001b[39;00m thresh \u001b[39mis\u001b[39;00m \u001b[39mnot\u001b[39;00m \u001b[39mNone\u001b[39;00m:\n",
      "\u001b[1;31mKeyError\u001b[0m: ['name', 'species']"
     ]
    }
   ],
   "source": [
    "def load_pet_data():\n",
    "    \"\"\"Load the pet data\n",
    "    This loads the pet data from the csv file and cleans it appropriately.\n",
    "    It removes extra columns, rows with malformed names or breeds, and makes the names\n",
    "    lowercase.\n",
    "    \"\"\"\n",
    "    pet_data = pd.read_csv(\"seattle_pet_licenses.csv\", dtype = {\"Animal's Name\": str, 'Species': str,'Primary Breed': str,\n",
    "                                                        'Secondary Breed': str},\n",
    "                                                        usecols=[\"Animal's Name\",'Species',\n",
    "                                                        'Primary Breed','Secondary Breed'])\n",
    "    \n",
    "    pet_data = pet_data.rename({\"Name\":\"name\",\n",
    "                     \"Species\": \"species\",\n",
    "                     \"Primary Breed\": \"primary_breed\",\n",
    "                     \"Secondary Breed\": \"secondary_breed\"})\n",
    "    pet_data = pet_data.dropna(subset=['name', 'species'])\n",
    "\n",
    "    for column in pet_data.columns:\n",
    "        pet_data[column] = pet_data[column].str.lower()\n",
    "\n",
    "    pet_data = pet_data[pet_data[\"name\"].str.match(\"^[ \\\\.a-z-]+$\")]\n",
    "\n",
    "    return pet_data\n",
    "\n",
    "pet_data = load_pet_data()"
   ]
  },
  {
   "cell_type": "markdown",
   "metadata": {},
   "source": [
    "This code below:\n",
    "\n",
    "1. Has a function that converts the DataFrame into a list of objects, where each object has some metadata plus the list of subsequences (partials of the name string. So like \"spot\", has [\"s\", \"sp\", \"spo\", \"spot\", \"spot+\"])\n",
    "2. Grabs the subsequences, which then are a list of lists, and flattens them into a single list.\n",
    "3. Shuffles said list."
   ]
  },
  {
   "cell_type": "code",
   "execution_count": 17,
   "metadata": {},
   "outputs": [],
   "source": [
    "def make_subsequences(name):\n",
    "    characters = name + '+'\n",
    "    subsequences = [list(characters[0:(i+1)]) for i in range(len(characters))]\n",
    "    return subsequences\n",
    "\n",
    "# Change this to adding a column to pandas instead of a dict of lists\n",
    "def get_all_subsequences(pet_data):\n",
    "    subsequences = pet_data[\"name\"].map(make_subsequences)\n",
    "    return subsequences\n",
    "\n",
    "pet_data['subsequences'] = get_all_subsequences(pet_data)"
   ]
  },
  {
   "cell_type": "markdown",
   "metadata": {},
   "source": [
    "Then we convert the characters to ints using the lookup, pad them, and one hot encode them."
   ]
  },
  {
   "cell_type": "code",
   "execution_count": 21,
   "metadata": {},
   "outputs": [],
   "source": [
    "def characters_to_matrix(character_data):\n",
    "    character_data = [[character_lookup[chr] for chr in c] for c in character_data]\n",
    "    padded_character_data = keras.utils.pad_sequences(character_data, maxlen = max_length+1)\n",
    "    text_matrix = keras.utils.to_categorical(padded_character_data, num_classes = num_characters)\n",
    "    return text_matrix\n",
    "\n",
    "# Use explode here, especially with multiple columns\n",
    "# random shuffle seed\n",
    "\n",
    "character_data = list(itertools.chain.from_iterable(pet_data[\"subsequences\"]))\n",
    "random.shuffle(character_data)\n",
    "text_matrix = characters_to_matrix(character_data)\n",
    "\n",
    "x_name = text_matrix[:,range(max_length),:]\n",
    "y_name = text_matrix[:,max_length,:]"
   ]
  },
  {
   "cell_type": "markdown",
   "metadata": {},
   "source": [
    "Now we start the neural network part. Below is the model architecture definition."
   ]
  },
  {
   "cell_type": "code",
   "execution_count": 58,
   "metadata": {},
   "outputs": [],
   "source": [
    "model = keras.Sequential(\n",
    "    [\n",
    "        keras.Input(shape=(max_length, num_characters)),\n",
    "        layers.LSTM(32, return_sequences = True),\n",
    "        layers.LSTM(32),\n",
    "        layers.Dropout(0.2),\n",
    "        layers.Dense(num_characters, activation=\"softmax\"),\n",
    "    ]\n",
    ")\n",
    "optimizer = keras.optimizers.RMSprop(learning_rate=0.01)\n",
    "model.compile(loss=\"categorical_crossentropy\", optimizer=optimizer)"
   ]
  },
  {
   "cell_type": "markdown",
   "metadata": {},
   "source": [
    "This is training the model."
   ]
  },
  {
   "cell_type": "code",
   "execution_count": 62,
   "metadata": {},
   "outputs": [
    {
     "name": "stdout",
     "output_type": "stream",
     "text": [
      "Epoch 1/25\n",
      "5748/5748 [==============================] - 43s 7ms/step - loss: 1.9132\n",
      "Epoch 2/25\n",
      "5748/5748 [==============================] - 37s 6ms/step - loss: 1.9118\n",
      "Epoch 3/25\n",
      "5748/5748 [==============================] - 37s 6ms/step - loss: 1.9137\n",
      "Epoch 4/25\n",
      "5748/5748 [==============================] - 40s 7ms/step - loss: 1.9153\n",
      "Epoch 5/25\n",
      "5748/5748 [==============================] - 39s 7ms/step - loss: 1.9137\n",
      "Epoch 6/25\n",
      "5748/5748 [==============================] - 33s 6ms/step - loss: 1.9161\n",
      "Epoch 7/25\n",
      "5748/5748 [==============================] - 36s 6ms/step - loss: 1.9208\n",
      "Epoch 8/25\n",
      "5748/5748 [==============================] - 34s 6ms/step - loss: 1.9237\n",
      "Epoch 9/25\n",
      "5748/5748 [==============================] - 33s 6ms/step - loss: 1.9252\n",
      "Epoch 10/25\n",
      "5748/5748 [==============================] - 33s 6ms/step - loss: 1.9289\n",
      "Epoch 11/25\n",
      "5748/5748 [==============================] - 34s 6ms/step - loss: 1.9397\n",
      "Epoch 12/25\n",
      "5748/5748 [==============================] - 36s 6ms/step - loss: 1.9406\n",
      "Epoch 13/25\n",
      "5748/5748 [==============================] - 32s 6ms/step - loss: 1.9481\n",
      "Epoch 14/25\n",
      "5748/5748 [==============================] - 33s 6ms/step - loss: 1.9501\n",
      "Epoch 15/25\n",
      "5748/5748 [==============================] - 32s 6ms/step - loss: 1.9530\n",
      "Epoch 16/25\n",
      "5748/5748 [==============================] - 34s 6ms/step - loss: 1.9495\n",
      "Epoch 17/25\n",
      "5748/5748 [==============================] - 34s 6ms/step - loss: 1.9544\n",
      "Epoch 18/25\n",
      "5748/5748 [==============================] - 37s 6ms/step - loss: 1.9497\n",
      "Epoch 19/25\n",
      "5748/5748 [==============================] - 34s 6ms/step - loss: 1.9675\n",
      "Epoch 20/25\n",
      "5748/5748 [==============================] - 34s 6ms/step - loss: 1.9713\n",
      "Epoch 21/25\n",
      "5748/5748 [==============================] - 33s 6ms/step - loss: 1.9649\n",
      "Epoch 22/25\n",
      "5748/5748 [==============================] - 37s 6ms/step - loss: 1.9827\n",
      "Epoch 23/25\n",
      "5748/5748 [==============================] - 33s 6ms/step - loss: 1.9776\n",
      "Epoch 24/25\n",
      "5748/5748 [==============================] - 33s 6ms/step - loss: 1.9814\n",
      "Epoch 25/25\n",
      "5748/5748 [==============================] - 33s 6ms/step - loss: 1.9701\n"
     ]
    },
    {
     "data": {
      "text/plain": [
       "<keras.callbacks.History at 0x2b732a340d0>"
      ]
     },
     "execution_count": 62,
     "metadata": {},
     "output_type": "execute_result"
    }
   ],
   "source": [
    "model.fit(x_name, y_name, batch_size = 64, epochs = 25)"
   ]
  },
  {
   "cell_type": "markdown",
   "metadata": {},
   "source": [
    "Last we save the model."
   ]
  },
  {
   "cell_type": "code",
   "execution_count": 60,
   "metadata": {},
   "outputs": [],
   "source": [
    "model.save(\"model.h5\")"
   ]
  }
 ],
 "metadata": {
  "kernelspec": {
   "display_name": "Python 3.9.12 ('base')",
   "language": "python",
   "name": "python3"
  },
  "language_info": {
   "codemirror_mode": {
    "name": "ipython",
    "version": 3
   },
   "file_extension": ".py",
   "mimetype": "text/x-python",
   "name": "python",
   "nbconvert_exporter": "python",
   "pygments_lexer": "ipython3",
   "version": "3.9.12"
  },
  "orig_nbformat": 4,
  "vscode": {
   "interpreter": {
    "hash": "8150c625a63ac57475fcc2a1d303ce8eece2765264f9ecef0b57ffda11156453"
   }
  }
 },
 "nbformat": 4,
 "nbformat_minor": 2
}
