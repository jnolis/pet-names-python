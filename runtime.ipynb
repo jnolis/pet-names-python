{
 "cells": [
  {
   "cell_type": "code",
   "execution_count": 1,
   "metadata": {},
   "outputs": [],
   "source": [
    "from tensorflow import keras\n",
    "from tensorflow.keras import layers\n",
    "import pandas as pd\n",
    "import numpy as np\n",
    "import itertools\n",
    "import random\n",
    "import string\n",
    "import io\n",
    "import warnings"
   ]
  },
  {
   "cell_type": "markdown",
   "metadata": {},
   "source": [
    "Details about the model and character set used in pet names"
   ]
  },
  {
   "cell_type": "code",
   "execution_count": 2,
   "metadata": {},
   "outputs": [],
   "source": [
    "character_list = list(string.ascii_lowercase) + [\".\",\"-\",\" \",\"+\"]\n",
    "character_lookup = dict(zip(character_list, range(len(character_list))))\n",
    "max_length = 10\n",
    "num_characters = len(character_lookup)"
   ]
  },
  {
   "cell_type": "markdown",
   "metadata": {},
   "source": [
    "Load the model that was trained in `train_model.ipynb`:"
   ]
  },
  {
   "cell_type": "code",
   "execution_count": 3,
   "metadata": {},
   "outputs": [],
   "source": [
    "model = keras.models.load_model(\"model.h5\")"
   ]
  },
  {
   "cell_type": "markdown",
   "metadata": {},
   "source": [
    "This function generates a name using the trained model. It creates on character at a time and then reruns the model on the partially compelete name. A value is sampled from the distribution that is outputted by the model, with a \"temperature\" factor that makes the names more or less chaotic."
   ]
  },
  {
   "cell_type": "code",
   "execution_count": 10,
   "metadata": {},
   "outputs": [],
   "source": [
    "def generate_name(model, character_lookup, max_length, temperature = 1):\n",
    "    \"\"\"Generate a pet name\n",
    "    This function takes the model and parameters then generates a new name from it.\n",
    "    \"\"\"\n",
    "    def choose_next_char(preds, character_lookup, temperature = 1):\n",
    "        \"\"\"Given a distribution of character probabilities, returns a character sampled from it.\"\"\"\n",
    "        with warnings.catch_warnings():\n",
    "            warnings.filterwarnings(\"ignore\", message=\"divide by zero encountered in log\")\n",
    "            preds = np.log(preds)/temperature\n",
    "        exp_preds = np.exp(preds)\n",
    "        preds = exp_preds/sum(np.exp(preds))\n",
    "        preds = preds.astype('float64')\n",
    "        preds = preds / np.sum(preds)\n",
    "\n",
    "        next_index = np.argmax(np.random.multinomial(1,preds))\n",
    "        next_character = list(character_lookup.keys())[next_index]\n",
    "        return next_character\n",
    "    def characters_to_matrix(character_data):\n",
    "        \"\"\"Takes a list of partial names and converts them to a matrix\"\"\"\n",
    "        character_data = [[character_lookup[chr] for chr in c] for c in character_data]\n",
    "        padded_character_data = keras.utils.pad_sequences(character_data, maxlen = max_length)\n",
    "        text_matrix = keras.utils.to_categorical(padded_character_data, num_classes = num_characters)\n",
    "        return text_matrix\n",
    "\n",
    "    in_progress_name = []\n",
    "    next_letter = \"\"\n",
    "  \n",
    "    # While we haven't hit a stop character or exceeded some name length limit.\n",
    "    while next_letter != \"+\" and len(in_progress_name) < 30:\n",
    "        previous_letters_data = characters_to_matrix([in_progress_name])\n",
    "        next_letter_probabilities = model.predict(previous_letters_data, verbose = 0)[0]\n",
    "        next_letter = choose_next_char(next_letter_probabilities, character_lookup, temperature)\n",
    "        if next_letter != \"+\":\n",
    "            in_progress_name = in_progress_name + [next_letter]\n",
    "    \n",
    "    raw_name = ''.join(in_progress_name)\n",
    "    capitalized_name = string.capwords(raw_name) \n",
    "  \n",
    "    return capitalized_name\n",
    "\n",
    "def generate_many_names(model, character_lookup, max_length, temperature = 1, n = 10):\n",
    "    \"\"\"Generate many names at once rather than one.\"\"\"\n",
    "    names = [generate_name(model, character_lookup, max_length, temperature) for i in range(n)]\n",
    "    return names"
   ]
  },
  {
   "cell_type": "markdown",
   "metadata": {},
   "source": [
    "An example of running the function:"
   ]
  },
  {
   "cell_type": "code",
   "execution_count": 17,
   "metadata": {},
   "outputs": [
    {
     "data": {
      "text/plain": [
       "'Wilgca, Havy, Rosa, Nicho, Ellie, Amaggie, Abuddy, Jake, Beegey, Deo, Blio, Lailey, Pati, Carley, Millie, Dedgi, Lulu, Mil, Sidiue, Bailey'"
      ]
     },
     "execution_count": 17,
     "metadata": {},
     "output_type": "execute_result"
    }
   ],
   "source": [
    "names = generate_many_names(model, character_lookup, max_length, n = 20, temperature = 0.85)\n",
    "\", \".join(names)"
   ]
  }
 ],
 "metadata": {
  "kernelspec": {
   "display_name": "Python 3.9.12 ('base')",
   "language": "python",
   "name": "python3"
  },
  "language_info": {
   "codemirror_mode": {
    "name": "ipython",
    "version": 3
   },
   "file_extension": ".py",
   "mimetype": "text/x-python",
   "name": "python",
   "nbconvert_exporter": "python",
   "pygments_lexer": "ipython3",
   "version": "3.9.12"
  },
  "orig_nbformat": 4,
  "vscode": {
   "interpreter": {
    "hash": "8150c625a63ac57475fcc2a1d303ce8eece2765264f9ecef0b57ffda11156453"
   }
  }
 },
 "nbformat": 4,
 "nbformat_minor": 2
}
