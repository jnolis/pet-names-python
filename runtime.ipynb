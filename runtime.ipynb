{
 "cells": [
  {
   "cell_type": "markdown",
   "metadata": {},
   "source": [
    "```\n",
    "library(keras)\n",
    "\n",
    "# load the parameters\n",
    "source(\"parameters.R\")\n",
    "\n",
    "# load the neural network model\n",
    "model <- load_model_hdf5(\"model.h5\", compile=FALSE)\n",
    "\n",
    "\n",
    "# a function that generates a single pet name from a model\n",
    "generate_name <- function(model, character_lookup, max_length, temperature=1){\n",
    "  # model - the trained neural network\n",
    "  # character_lookup - the table for how characters convert to numbers\n",
    "  # max_length - the expected length of the training data in characters\n",
    "  # temperature - how weird to make the names, higher is weirder\n",
    "  \n",
    "  # given the probabilities returned from the model, this code\n",
    "  choose_next_char <- function(preds, character_lookup,temperature = 1){\n",
    "    preds <- log(preds)/temperature\n",
    "    exp_preds <- exp(preds)\n",
    "    preds <- exp_preds/sum(exp(preds))\n",
    "    \n",
    "    next_index <- which.max(as.integer(rmultinom(1, 1, preds)))\n",
    "    character_lookup$character[next_index-1]\n",
    "  }\n",
    "  \n",
    "  in_progress_name <- character(0)\n",
    "  next_letter <- \"\"\n",
    "  \n",
    "  # while we haven't hit a stop character and the name isn't too long\n",
    "  while(next_letter != \"+\" && length(in_progress_name) < 30){\n",
    "    # prep the data to run in the model again\n",
    "    previous_letters_data <- \n",
    "      lapply(list(in_progress_name), function(.x){\n",
    "        character_lookup$character_id[match(.x,character_lookup$character)]\n",
    "      })\n",
    "    previous_letters_data <- pad_sequences(previous_letters_data, maxlen = max_length)\n",
    "    previous_letters_data <- to_categorical(previous_letters_data, num_classes = num_characters)\n",
    "    \n",
    "    # get the probabilities of each possible next character by running the model\n",
    "    next_letter_probabilities <- \n",
    "      predict(model,previous_letters_data)\n",
    "    \n",
    "    # determine what the actual letter is\n",
    "    next_letter <- choose_next_char(next_letter_probabilities,character_lookup,temperature)\n",
    "    \n",
    "    if(next_letter != \"+\")\n",
    "      # if the next character isn't stop add the latest generated character to the name and continue\n",
    "      in_progress_name <- c(in_progress_name,next_letter)\n",
    "  }\n",
    "  \n",
    "  # turn the list of characters into a single string\n",
    "  raw_name <- paste0(in_progress_name, collapse=\"\")\n",
    "  \n",
    "  # capitalize the first letter of each word\n",
    "  capitalized_name <-gsub(\"\\\\b(\\\\w)\",\"\\\\U\\\\1\",raw_name,perl=TRUE)\n",
    "  \n",
    "  capitalized_name\n",
    "}\n",
    "\n",
    "# a function to generate many names\n",
    "generate_many_names <- function(n=10, model, character_lookup, max_length, temperature=1){\n",
    "  # n - the number of names to generate\n",
    "  # (then everything else you'd pass to generate_name)\n",
    "  unlist(lapply(1:n,function(x) generate_name(model, character_lookup, max_length, temperature)))\n",
    "}\n",
    "```"
   ]
  },
  {
   "cell_type": "code",
   "execution_count": 3,
   "metadata": {},
   "outputs": [],
   "source": [
    "from tensorflow import keras\n",
    "from tensorflow.keras import layers\n",
    "import pandas as pd\n",
    "import numpy as np\n",
    "import itertools\n",
    "import random\n",
    "import string\n",
    "import io"
   ]
  },
  {
   "cell_type": "code",
   "execution_count": 4,
   "metadata": {},
   "outputs": [],
   "source": [
    "character_list = list(string.ascii_lowercase) + [\".\",\"-\",\" \",\"+\"]\n",
    "character_lookup = dict(zip(character_list, range(len(character_list))))\n",
    "max_length = 10\n",
    "num_characters = len(character_lookup)"
   ]
  },
  {
   "cell_type": "code",
   "execution_count": 5,
   "metadata": {},
   "outputs": [],
   "source": [
    "model = keras.models.load_model(\"model.h5\")"
   ]
  },
  {
   "cell_type": "code",
   "execution_count": 54,
   "metadata": {},
   "outputs": [],
   "source": [
    "def generate_name(model, character_lookup, max_length, temperature = 1):\n",
    "    def choose_next_char(preds, character_lookup, temperature = 1):\n",
    "        with warnings.catch_warnings():\n",
    "            warnings.filterwarnings(\"ignore\", message=\"divide by zero encountered in divide\")\n",
    "            preds = np.log(preds)/temperature\n",
    "        exp_preds = np.exp(preds)\n",
    "        preds = exp_preds/sum(np.exp(preds))\n",
    "\n",
    "        next_index = np.argmax(np.random.multinomial(1,preds))\n",
    "        next_character = list(character_lookup.keys())[next_index]\n",
    "        return next_character\n",
    "    def characters_to_matrix(character_data):\n",
    "        character_data = [[character_lookup[chr] for chr in c] for c in character_data]\n",
    "        padded_character_data = keras.utils.pad_sequences(character_data, maxlen = max_length)\n",
    "        text_matrix = keras.utils.to_categorical(padded_character_data, num_classes = num_characters)\n",
    "        return text_matrix\n",
    "\n",
    "    in_progress_name = []\n",
    "    next_letter = \"\"\n",
    "  \n",
    "    while next_letter != \"+\" and len(in_progress_name) < 30:\n",
    "        previous_letters_data = characters_to_matrix([in_progress_name])\n",
    "        next_letter_probabilities = model.predict(previous_letters_data, verbose = 0)[0]\n",
    "        next_letter = choose_next_char(next_letter_probabilities, character_lookup, temperature)\n",
    "        if next_letter != \"+\":\n",
    "            in_progress_name = in_progress_name + [next_letter]\n",
    "    \n",
    "    raw_name = ''.join(in_progress_name)\n",
    "    capitalized_name = string.capwords(raw_name) \n",
    "  \n",
    "    return capitalized_name\n",
    "\n",
    "def generate_many_names(model, character_lookup, max_length, temperature = 1, n = 10):\n",
    "    names = [generate_name(model, character_lookup, max_length, temperature) for i in range(n)]\n",
    "    return names"
   ]
  },
  {
   "cell_type": "code",
   "execution_count": 55,
   "metadata": {},
   "outputs": [
    {
     "name": "stderr",
     "output_type": "stream",
     "text": [
      "C:\\Users\\jacqu\\AppData\\Local\\Temp\\ipykernel_9640\\792214307.py:3: RuntimeWarning: divide by zero encountered in log\n",
      "  preds = np.log(preds)/temperature\n"
     ]
    },
    {
     "data": {
      "text/plain": [
       "['Amiji',\n",
       " 'Baiy',\n",
       " 'Laxie',\n",
       " 'Jack',\n",
       " 'Coaky',\n",
       " 'Tilly',\n",
       " 'Pepper',\n",
       " 'Hubby',\n",
       " 'Isis',\n",
       " 'Milo',\n",
       " 'Millis',\n",
       " 'Yczie',\n",
       " 'Della',\n",
       " 'Katie',\n",
       " 'Violet',\n",
       " 'Mixie',\n",
       " 'Hoover',\n",
       " 'Misty Mil',\n",
       " 'Maggie',\n",
       " 'Finn']"
      ]
     },
     "execution_count": 55,
     "metadata": {},
     "output_type": "execute_result"
    }
   ],
   "source": [
    "generate_many_names(model, character_lookup, max_length, n = 20)"
   ]
  },
  {
   "cell_type": "code",
   "execution_count": null,
   "metadata": {},
   "outputs": [],
   "source": []
  }
 ],
 "metadata": {
  "kernelspec": {
   "display_name": "Python 3.9.12 ('base')",
   "language": "python",
   "name": "python3"
  },
  "language_info": {
   "codemirror_mode": {
    "name": "ipython",
    "version": 3
   },
   "file_extension": ".py",
   "mimetype": "text/x-python",
   "name": "python",
   "nbconvert_exporter": "python",
   "pygments_lexer": "ipython3",
   "version": "3.9.12"
  },
  "orig_nbformat": 4,
  "vscode": {
   "interpreter": {
    "hash": "8150c625a63ac57475fcc2a1d303ce8eece2765264f9ecef0b57ffda11156453"
   }
  }
 },
 "nbformat": 4,
 "nbformat_minor": 2
}
