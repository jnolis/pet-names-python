{
 "cells": [
  {
   "cell_type": "code",
   "execution_count": 56,
   "metadata": {},
   "outputs": [],
   "source": [
    "from tensorflow import keras\n",
    "from tensorflow.keras import layers\n",
    "import pandas as pd\n",
    "import numpy as np\n",
    "import itertools\n",
    "import random\n",
    "import string\n",
    "import io\n",
    "import warnings"
   ]
  },
  {
   "cell_type": "code",
   "execution_count": 4,
   "metadata": {},
   "outputs": [],
   "source": [
    "character_list = list(string.ascii_lowercase) + [\".\",\"-\",\" \",\"+\"]\n",
    "character_lookup = dict(zip(character_list, range(len(character_list))))\n",
    "max_length = 10\n",
    "num_characters = len(character_lookup)"
   ]
  },
  {
   "cell_type": "code",
   "execution_count": 5,
   "metadata": {},
   "outputs": [],
   "source": [
    "model = keras.models.load_model(\"model.h5\")"
   ]
  },
  {
   "cell_type": "code",
   "execution_count": 60,
   "metadata": {},
   "outputs": [],
   "source": [
    "def generate_name(model, character_lookup, max_length, temperature = 1):\n",
    "    def choose_next_char(preds, character_lookup, temperature = 1):\n",
    "        with warnings.catch_warnings():\n",
    "            warnings.filterwarnings(\"ignore\", message=\"divide by zero encountered in log\")\n",
    "            preds = np.log(preds)/temperature\n",
    "        exp_preds = np.exp(preds)\n",
    "        preds = exp_preds/sum(np.exp(preds))\n",
    "\n",
    "        next_index = np.argmax(np.random.multinomial(1,preds))\n",
    "        next_character = list(character_lookup.keys())[next_index]\n",
    "        return next_character\n",
    "    def characters_to_matrix(character_data):\n",
    "        character_data = [[character_lookup[chr] for chr in c] for c in character_data]\n",
    "        padded_character_data = keras.utils.pad_sequences(character_data, maxlen = max_length)\n",
    "        text_matrix = keras.utils.to_categorical(padded_character_data, num_classes = num_characters)\n",
    "        return text_matrix\n",
    "\n",
    "    in_progress_name = []\n",
    "    next_letter = \"\"\n",
    "  \n",
    "    while next_letter != \"+\" and len(in_progress_name) < 30:\n",
    "        previous_letters_data = characters_to_matrix([in_progress_name])\n",
    "        next_letter_probabilities = model.predict(previous_letters_data, verbose = 0)[0]\n",
    "        next_letter = choose_next_char(next_letter_probabilities, character_lookup, temperature)\n",
    "        if next_letter != \"+\":\n",
    "            in_progress_name = in_progress_name + [next_letter]\n",
    "    \n",
    "    raw_name = ''.join(in_progress_name)\n",
    "    capitalized_name = string.capwords(raw_name) \n",
    "  \n",
    "    return capitalized_name\n",
    "\n",
    "def generate_many_names(model, character_lookup, max_length, temperature = 1, n = 10):\n",
    "    names = [generate_name(model, character_lookup, max_length, temperature) for i in range(n)]\n",
    "    return names"
   ]
  },
  {
   "cell_type": "code",
   "execution_count": 61,
   "metadata": {},
   "outputs": [
    {
     "data": {
      "text/plain": [
       "['Mesa',\n",
       " 'Jack',\n",
       " 'Molly',\n",
       " 'Bella',\n",
       " 'Missy',\n",
       " 'Marley',\n",
       " 'Rocky',\n",
       " 'Samper',\n",
       " 'Bella',\n",
       " 'Max',\n",
       " 'Milo',\n",
       " 'Bella',\n",
       " 'Samson',\n",
       " 'Buttercut',\n",
       " 'Ollie',\n",
       " 'Marley',\n",
       " 'Roger',\n",
       " 'Nora',\n",
       " 'Nella',\n",
       " 'Odin']"
      ]
     },
     "execution_count": 61,
     "metadata": {},
     "output_type": "execute_result"
    }
   ],
   "source": [
    "generate_many_names(model, character_lookup, max_length, n = 20, temperature = 0.5)"
   ]
  },
  {
   "cell_type": "code",
   "execution_count": null,
   "metadata": {},
   "outputs": [],
   "source": []
  }
 ],
 "metadata": {
  "kernelspec": {
   "display_name": "Python 3.9.12 ('base')",
   "language": "python",
   "name": "python3"
  },
  "language_info": {
   "codemirror_mode": {
    "name": "ipython",
    "version": 3
   },
   "file_extension": ".py",
   "mimetype": "text/x-python",
   "name": "python",
   "nbconvert_exporter": "python",
   "pygments_lexer": "ipython3",
   "version": "3.9.12"
  },
  "orig_nbformat": 4,
  "vscode": {
   "interpreter": {
    "hash": "8150c625a63ac57475fcc2a1d303ce8eece2765264f9ecef0b57ffda11156453"
   }
  }
 },
 "nbformat": 4,
 "nbformat_minor": 2
}
